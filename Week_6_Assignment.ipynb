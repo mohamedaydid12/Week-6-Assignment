{
  "nbformat": 4,
  "nbformat_minor": 0,
  "metadata": {
    "colab": {
      "provenance": [],
      "authorship_tag": "ABX9TyPHUP9mDjrSIIlh0T0s1vlb",
      "include_colab_link": true
    },
    "kernelspec": {
      "name": "python3",
      "display_name": "Python 3"
    },
    "language_info": {
      "name": "python"
    }
  },
  "cells": [
    {
      "cell_type": "markdown",
      "metadata": {
        "id": "view-in-github",
        "colab_type": "text"
      },
      "source": [
        "<a href=\"https://colab.research.google.com/github/mohamedaydid12/Week-6-Assignment/blob/main/Week_6_Assignment.ipynb\" target=\"_parent\"><img src=\"https://colab.research.google.com/assets/colab-badge.svg\" alt=\"Open In Colab\"/></a>"
      ]
    },
    {
      "cell_type": "code",
      "execution_count": null,
      "metadata": {
        "colab": {
          "base_uri": "https://localhost:8080/"
        },
        "id": "VcSfH2miqAhV",
        "outputId": "debbc5b3-919a-4bf4-e490-e07d9a705789"
      },
      "outputs": [
        {
          "output_type": "stream",
          "name": "stdout",
          "text": [
            "Total CO2 Emissions: 750\n",
            "Top Three Cars by CO2 Emissions:\n",
            "Car A: 400\n",
            "Car C: 200\n",
            "Car B: 150\n",
            "Bobbles sold more\n",
            "Bobbles Revenue: $4396.00\n",
            "Widgets Revenue: $5596.50\n",
            "Widgets generated more revenue\n",
            "Least sales were for region Car B and product Widgets\n"
          ]
        }
      ],
      "source": [
        "from collections import defaultdict\n",
        "\n",
        "# Example data (replace this with your actual data source)\n",
        "data = [\n",
        "    {'CO2': '120', 'Car': 'Car A', 'Model': 'Bobbles'},\n",
        "    {'CO2': '150', 'Car': 'Car B', 'Model': 'Widgets'},\n",
        "    {'CO2': '100', 'Car': 'Car A', 'Model': 'Bobbles'},\n",
        "    {'CO2': '200', 'Car': 'Car C', 'Model': 'Widgets'},\n",
        "    {'CO2': '180', 'Car': 'Car A', 'Model': 'Bobbles'},\n",
        "    # Add more rows as needed\n",
        "]\n",
        "\n",
        "# Total sales calculation (assuming 'CO2' column exists and is numeric)\n",
        "total_sales = sum(int(row['CO2']) for row in data if row['CO2'].isdigit())\n",
        "print(f\"Total CO2 Emissions: {total_sales}\")\n",
        "\n",
        "# Sales by car model (using 'Car' as the country in your original context)\n",
        "country_sales = defaultdict(int)\n",
        "for row in data:\n",
        "    if row['CO2'].isdigit():\n",
        "        country_sales[row['Car']] += int(row['CO2'])\n",
        "\n",
        "# Get the top 3 countries by sales (top cars by CO2 emissions)\n",
        "top_countries = sorted(country_sales.items(), key=lambda x: x[1], reverse=True)[:3]\n",
        "\n",
        "print(\"Top Three Cars by CO2 Emissions:\")\n",
        "for car, co2 in top_countries:\n",
        "    print(f\"{car}: {co2}\")\n",
        "\n",
        "# Sales for specific products (assuming 'Model' is the product)\n",
        "bobbles_sales = sum(int(row['CO2']) for row in data if row['Model'] == 'Bobbles' and row['CO2'].isdigit())\n",
        "widgets_sales = sum(int(row['CO2']) for row in data if row['Model'] == 'Widgets' and row['CO2'].isdigit())\n",
        "\n",
        "if bobbles_sales > widgets_sales:\n",
        "    print(\"Bobbles sold more\")\n",
        "else:\n",
        "    print(\"Widgets sold more\")\n",
        "\n",
        "# Revenue calculations based on CO2 emissions (or sales, for your case)\n",
        "widgets_revenue = widgets_sales * 15.99\n",
        "bobbles_revenue = bobbles_sales * 10.99\n",
        "\n",
        "print(f\"Bobbles Revenue: ${bobbles_revenue:.2f}\")\n",
        "print(f\"Widgets Revenue: ${widgets_revenue:.2f}\")\n",
        "\n",
        "if bobbles_revenue > widgets_revenue:\n",
        "    print(\"Bobbles generated more revenue\")\n",
        "else:\n",
        "    print(\"Widgets generated more revenue\")\n",
        "\n",
        "# Region-based product sales (If applicable to your dataset)\n",
        "region_product_sales = defaultdict(int)\n",
        "for row in data:\n",
        "    if row['CO2'].isdigit():\n",
        "        region_product_sales[(row['Model'], row['Car'])] += int(row['CO2'])\n",
        "\n",
        "# Find the product-region pair with the least sales\n",
        "least_sales = min(region_product_sales, key=region_product_sales.get)\n",
        "\n",
        "print(f\"Least sales were for region {least_sales[1]} and product {least_sales[0]}\")\n",
        "\n"
      ]
    }
  ]
}